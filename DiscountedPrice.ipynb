{
  "nbformat": 4,
  "nbformat_minor": 0,
  "metadata": {
    "colab": {
      "provenance": [],
      "authorship_tag": "ABX9TyPFPraBmfmsOCvOoqdj6Vkt",
      "include_colab_link": true
    },
    "kernelspec": {
      "name": "python3",
      "display_name": "Python 3"
    },
    "language_info": {
      "name": "python"
    }
  },
  "cells": [
    {
      "cell_type": "markdown",
      "metadata": {
        "id": "view-in-github",
        "colab_type": "text"
      },
      "source": [
        "<a href=\"https://colab.research.google.com/github/sarthigupta/Python/blob/main/DiscountedPrice.ipynb\" target=\"_parent\"><img src=\"https://colab.research.google.com/assets/colab-badge.svg\" alt=\"Open In Colab\"/></a>"
      ]
    },
    {
      "cell_type": "code",
      "source": [
        "n = int(input(\"Enter the number of items: \"))\n",
        "totalPrice = 0\n",
        "for i in range(1,n+1):\n",
        "  price = float(input(f\"Enter the price for {i} item: \"))\n",
        "  quantity = float(input(f\"Enter the quantity for {i} item: \"))\n",
        "  totalPrice = totalPrice + price*quantity\n",
        "if (totalPrice > 50):\n",
        "   totalPrice =  totalPrice - 0.1 *  totalPrice\n",
        "print(f\"The Total Price after discount is {totalPrice}\")\n"
      ],
      "metadata": {
        "colab": {
          "base_uri": "https://localhost:8080/",
          "height": 0
        },
        "id": "E74yryYu-zll",
        "outputId": "9d80f1e4-9419-4870-92f2-84ef89171fb9"
      },
      "execution_count": 19,
      "outputs": [
        {
          "output_type": "stream",
          "name": "stdout",
          "text": [
            "Enter the number of items: 3\n",
            "Enter the price for 1 item: 10\n",
            "Enter the quantity for 1 item: 1\n",
            "Enter the price for 2 item: 15\n",
            "Enter the quantity for 2 item: 2\n",
            "Enter the price for 3 item: 40\n",
            "Enter the quantity for 3 item: 1\n",
            "The Total Price after discount is 72.0\n"
          ]
        }
      ]
    }
  ]
}